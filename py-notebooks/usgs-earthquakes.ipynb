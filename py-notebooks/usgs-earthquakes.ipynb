{
 "cells": [
  {
   "cell_type": "code",
   "execution_count": 16,
   "metadata": {},
   "outputs": [],
   "source": [
    "import urllib.request\n",
    "import urllib.parse\n",
    "import urllib.error"
   ]
  },
  {
   "cell_type": "code",
   "execution_count": 17,
   "metadata": {},
   "outputs": [
    {
     "data": {
      "text/plain": [
       "b'time,latitude,longitude,depth,mag,magType,nst,gap,dmin,rms,net,id,updated,place,type,horizontalError,depthError,magError,magNst,status,locationSource,magSource\\n'"
      ]
     },
     "execution_count": 17,
     "metadata": {},
     "output_type": "execute_result"
    }
   ],
   "source": [
    "url = \"https://earthquake.usgs.gov/earthquakes/feed/v1.0/summary/significant_month.csv\"\n",
    "earthquakes = urllib.request.urlopen(url)\n",
    "earthquakes.readline()"
   ]
  },
  {
   "cell_type": "code",
   "execution_count": 18,
   "metadata": {},
   "outputs": [
    {
     "name": "stdout",
     "output_type": "stream",
     "text": [
      "b'2022-11-09T10:14:33.541Z,-25.5948,178.2778,623.647,6.6,mww,109,22,4.976,1.09,us,us7000inht,2022-11-09T12:27:51.821Z,\"south of the Fiji Islands\",earthquake,10.04,5.993,0.098,10,reviewed,us,us\\n'\n",
      "b'2022-11-09T09:51:04.520Z,-26.0442,178.3808,665.267,7,mww,131,25,4.586,0.85,us,us7000ingi,2022-11-09T12:03:48.584Z,\"south of the Fiji Islands\",earthquake,10.63,7.014,0.093,11,reviewed,us,us\\n'\n",
      "b'2022-11-09T09:38:42.801Z,-25.9678,178.3625,628.923,6.8,mww,91,19,4.652,0.9,us,us7000ingh,2022-11-09T11:51:49.043Z,\"south of the Fiji Islands\",earthquake,10.06,6.157,0.078,16,reviewed,us,us\\n'\n",
      "b'2022-11-09T06:07:27.036Z,43.9297,13.3098,10,5.6,mww,132,14,0.877,1.03,us,us7000infp,2022-11-09T13:44:39.660Z,\"22 km NE of Marotta, Italy\",earthquake,4.3,1.833,0.046,45,reviewed,us,us\\n'\n",
      "b'2022-11-08T20:27:23.108Z,29.2965,81.1606,15.702,5.6,mww,209,22,3.918,0.75,us,us7000incn,2022-11-09T11:36:59.455Z,\"Nepal\",earthquake,6.81,3.351,0.073,18,reviewed,us,us\\n'\n",
      "b'2022-11-03T04:50:25.056Z,45.5202,26.5324,152.896,5.1,mww,124,17,0.414,0.73,us,us7000im41,2022-11-06T21:55:02.839Z,\"5 km NW of Lop\\xc4\\x83tari, Romania\",earthquake,6.22,4.787,0.066,22,reviewed,us,us\\n'\n",
      "b'2022-10-31T01:33:46.900Z,34.1625,-80.7191667,3.09,2.54,md,21,63,0.02446,0.3,se,se60414656,2022-11-08T17:10:00.047Z,\"6 km E of Elgin, South Carolina\",earthquake,0.63,0.42,0.174,18,reviewed,se,se\\n'\n",
      "b'2022-10-25T18:42:02.710Z,37.3115,-121.672,8.38,5.06,mw,199,28,0.03815,0.1,nc,nc73799091,2022-11-09T03:28:10.184Z,\"15km ESE of Alum Rock, CA\",earthquake,0.08,0.18,,3,reviewed,nc,nc\\n'\n",
      "b'2022-10-25T14:59:01.344Z,17.6634,120.8142,13.79,6.4,mww,124,25,5.134,0.48,us,us6000iwds,2022-11-03T12:06:26.045Z,\"11 km E of Dolores, Philippines\",earthquake,5.67,2.778,0.055,32,reviewed,us,us\\n'\n",
      "b'2022-10-25T00:13:01.582Z,-58.7562,-26.1924,78,6.3,mww,102,36,7.244,0.63,us,us6000iw74,2022-10-26T00:17:08.940Z,\"South Sandwich Islands region\",earthquake,9.83,1.858,0.062,25,reviewed,us,us\\n'\n",
      "b'2022-10-20T11:57:11.488Z,7.6712,-82.3396,10,6.7,mww,115,63,1.168,1.18,us,us6000iv6c,2022-10-29T21:04:53.360Z,\"62 km SSW of Boca Chica, Panama\",earthquake,6.14,1.846,0.033,90,reviewed,us,us\\n'\n",
      "b'2022-10-16T12:48:21.665Z,4.3584,-87.5675,15,6.3,mww,158,80,5.689,0.38,us,us6000iu4b,2022-11-04T05:13:31.859Z,\"off the coast of Central America\",earthquake,7.01,1.856,0.039,63,reviewed,us,us\\n'\n",
      "b'2022-10-14T19:07:29.020Z,19.14,-155.494,8.99,5.02,ml,51,159,,0.15,hv,hv72000488,2022-11-08T19:17:44.557Z,\"7 km SSW of P\\xc4\\x81hala, Hawaii\",earthquake,0.35,0.4,0.0801454647050575,23,reviewed,hv,hv\\n'\n",
      "b'2022-10-13T22:20:20.620Z,-4.812,153.5906,72,6.4,mww,129,20,1.55,0.65,us,us6000itgv,2022-11-05T23:24:58.814Z,\"New Ireland region, Papua New Guinea\",earthquake,5.07,1.754,0.049,40,reviewed,us,us\\n'\n"
     ]
    }
   ],
   "source": [
    "for record in earthquakes:\n",
    "    print(record)"
   ]
  }
 ],
 "metadata": {
  "kernelspec": {
   "display_name": "Python 3.9.0 64-bit",
   "language": "python",
   "name": "python3"
  },
  "language_info": {
   "codemirror_mode": {
    "name": "ipython",
    "version": 3
   },
   "file_extension": ".py",
   "mimetype": "text/x-python",
   "name": "python",
   "nbconvert_exporter": "python",
   "pygments_lexer": "ipython3",
   "version": "3.9.0"
  },
  "orig_nbformat": 4,
  "vscode": {
   "interpreter": {
    "hash": "0d591c6e422414675974e227c13f5382000c440fedd3c5006ef2be5d887f0ba7"
   }
  }
 },
 "nbformat": 4,
 "nbformat_minor": 2
}
